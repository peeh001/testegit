{
  "nbformat": 4,
  "nbformat_minor": 0,
  "metadata": {
    "colab": {
      "provenance": []
    },
    "kernelspec": {
      "name": "python3",
      "display_name": "Python 3"
    },
    "language_info": {
      "name": "python"
    }
  },
  "cells": [
    {
      "cell_type": "code",
      "execution_count": null,
      "metadata": {
        "id": "-TzH5IIeglSL"
      },
      "outputs": [],
      "source": [
        "class Televisao:\n",
        "    \"\"\" class for representing and manipulating televisao. \"\"\"\n",
        "\n",
        "    def __init__(self):\n",
        "\n",
        "        self.ligada = False\n",
        "        self.canal = 2\n",
        "\n",
        "tv = Televisao()         # Instantiate an object of type Televisao\n",
        "print(f\"A televisao esta no canal: {tv.canal}\")\n",
        "print(f\"A televisão esta (False - desligada/ True - ligada): {tv.ligada}\")\n",
        "\n",
        "tv_sala = Televisao()\n",
        "tv_sala.ligada = True\n",
        "tv_sala.canal = 4\n",
        "print(f\"A televisao da sala esta no canal: {tv_sala.canal}\")\n",
        "print(f\"A televisão da sala esta (False - desligada/ True - ligada): {tv_sala.ligada}\")"
      ]
    }
  ]
}